{
  "nbformat": 4,
  "nbformat_minor": 0,
  "metadata": {
    "colab": {
      "name": "Data_Download.ipynb",
      "provenance": [],
      "authorship_tag": "ABX9TyOcYVH+B7K4ThB62fQd2lpD",
      "include_colab_link": true
    },
    "kernelspec": {
      "name": "python3",
      "display_name": "Python 3"
    },
    "language_info": {
      "name": "python"
    }
  },
  "cells": [
    {
      "cell_type": "markdown",
      "metadata": {
        "id": "view-in-github",
        "colab_type": "text"
      },
      "source": [
        "<a href=\"https://colab.research.google.com/github/SMenon-14/Terrestrial-Planets-Decision-Forests/blob/main/Data_Download.ipynb\" target=\"_parent\"><img src=\"https://colab.research.google.com/assets/colab-badge.svg\" alt=\"Open In Colab\"/></a>"
      ]
    },
    {
      "cell_type": "code",
      "source": [
        "import pandas as pd\n",
        "import numpy as np\n",
        "from google.colab import files\n",
        "from astropy.table import Column"
      ],
      "metadata": {
        "id": "SM8UDFAH-orH"
      },
      "execution_count": null,
      "outputs": []
    },
    {
      "cell_type": "code",
      "source": [
        "#Connect to Google Drive\n",
        "from google.colab import drive\n",
        "drive.mount ('/content/gdrive',force_remount=True)"
      ],
      "metadata": {
        "id": "wGp4F65KlrRy"
      },
      "execution_count": null,
      "outputs": []
    },
    {
      "cell_type": "code",
      "execution_count": null,
      "metadata": {
        "id": "__dPv8oHBWv6"
      },
      "outputs": [],
      "source": [
        "!pip install pre astroquery\n",
        "\n",
        "from astroquery.ipac.nexsci.nasa_exoplanet_archive import NasaExoplanetArchive\n",
        "#Create Qtable with HD 40307 to add rows for the other exoplanets to\n",
        "exoplanets = NasaExoplanetArchive.query_object(\"HD 40307\")\n",
        "# List of a few known terrestrial exoplanets to create Training Set\n",
        "nameList = [\"Wolf 1061b\", \"Wolf 1061c\", \"Wolf 1061d\", \"Gliese 876 d\", \"Gliese 682 b\", \"Gliese 832 c\", \"82 G. Eridani b\", \"82 G. Eridani c\", \"82 G. Eridani d\", \"Gliese 581 e\", \"Gliese 581 c\", \"Gliese 581 d\", \"HD 219134 b\", \"Gliese 667 Cb\", \"Gliese 667 Cc\", \"61 Virginis b\", \"HD 85512 b\", \"GJ 180 b\", \"TRAPPIST-1\", \"55 Cancri e\"]\n",
        "#Iterate over exoplanets/exoplanet systems\n",
        "for exoplanet in nameList:\n",
        "  #Get qtable for exoplanet/exoplanet system\n",
        "  temp = NasaExoplanetArchive.query_object(exoplanet)\n",
        "  #Iterate over each row of temp Qtable \n",
        "  for row in temp:\n",
        "    #Add each row to main Qtable\n",
        "    exoplanets.add_row(row)"
      ]
    },
    {
      "cell_type": "code",
      "source": [
        "#Print Qtable to view contents\n",
        "exoplanets"
      ],
      "metadata": {
        "id": "_tjNLKnR-bm1"
      },
      "execution_count": null,
      "outputs": []
    },
    {
      "cell_type": "code",
      "source": [
        "#View the names of each unique exoplanet in the Qtable\n",
        "x = np.array(exoplanets[\"pl_name\"])\n",
        "exoplanet_names = np.unique(x)\n",
        "exoplanet_names"
      ],
      "metadata": {
        "id": "w4zqSdGY-h0Q"
      },
      "execution_count": null,
      "outputs": []
    },
    {
      "cell_type": "code",
      "source": [
        "#Add a column to the Qtable to identify that these planets are terrestrial\n",
        "newCol = []\n",
        "for row in exoplanets:\n",
        "  for y in range(len(exoplanets.colnames)):\n",
        "    newCol.append(\"Terrestrial\")\n",
        "exoplanets.add_column(newCol)"
      ],
      "metadata": {
        "id": "WKYmQhjeCp1k"
      },
      "execution_count": null,
      "outputs": []
    },
    {
      "cell_type": "code",
      "source": [
        "#View new col at the end of the table\n",
        "exoplanets"
      ],
      "metadata": {
        "id": "ZaGDw7tzHyIV"
      },
      "execution_count": null,
      "outputs": []
    },
    {
      "cell_type": "code",
      "source": [
        "#Write the Qtable to a text file in drive\n",
        "uploaded = '/content/gdrive/My Drive/Tensorflow Projects/Telescope Project/TrainSet.txt'\n",
        "exoplanets.write(uploaded, format='csv', overwrite=True)"
      ],
      "metadata": {
        "id": "xNt1c765k9M3"
      },
      "execution_count": null,
      "outputs": []
    },
    {
      "cell_type": "code",
      "source": [
        "#Create a file to hold the test set\n",
        "uploaded = '/content/gdrive/My Drive/Tensorflow Projects/Telescope Project/FullCSV.txt'\n",
        "#Create a Qtable to hold a list of Kepler objects for testing\n",
        "exoplanets = NasaExoplanetArchive.query_object(\"Kepler-4\")\n",
        "#Add kepler objects with id's between 10-149 inclusive to Qtable\n",
        "for x in range(10, 150):\n",
        "  s = \"Kepler-\"+str(x)\n",
        "  temp = NasaExoplanetArchive.query_object(s) \n",
        "  for row in temp:\n",
        "    exoplanets.add_row(row)\n",
        "#Upload Qtable to drive\n",
        "exoplanets.write(uploaded, format='csv', overwrite=True)"
      ],
      "metadata": {
        "id": "6p05CzXO37gc"
      },
      "execution_count": null,
      "outputs": []
    }
  ]
}